{
 "cells": [
  {
   "cell_type": "code",
   "execution_count": 3,
   "metadata": {},
   "outputs": [
    {
     "name": "stdout",
     "output_type": "stream",
     "text": [
      "p_value=0.018\n",
      "o p_valor e menor que o grau de significancia 0.02. rejeitamos a hipotese nula\n"
     ]
    }
   ],
   "source": [
    "import pandas as pd\n",
    "import numpy as np\n",
    "import scipy.stats as stats\n",
    "\n",
    "alpha = 0.05\n",
    "\n",
    "data = [31, 38, 30, 46, 40, 36, 38, 44, 43, 39, 36, 41, 37, 35, 38, 35, 38, 38, 42, 34]\n",
    "_, p = stats.ttest_1samp(data, popmean=40, alternative='less')\n",
    "print('p_value={:.3f}'.format(p))\n",
    "\n",
    "if p <= alpha:\n",
    "    print('o p_valor e menor que o grau de significancia {:.2f}. rejeitamos a hipotese nula' .format(p))\n",
    "else:\n",
    "    print('o p_valor e maior que o nivel de significancia {:.2f}. nao temos motivos de rejeitar a hipotese nula' .format(p))    "
   ]
  }
 ],
 "metadata": {
  "kernelspec": {
   "display_name": "base",
   "language": "python",
   "name": "python3"
  },
  "language_info": {
   "codemirror_mode": {
    "name": "ipython",
    "version": 3
   },
   "file_extension": ".py",
   "mimetype": "text/x-python",
   "name": "python",
   "nbconvert_exporter": "python",
   "pygments_lexer": "ipython3",
   "version": "3.11.9"
  }
 },
 "nbformat": 4,
 "nbformat_minor": 2
}
