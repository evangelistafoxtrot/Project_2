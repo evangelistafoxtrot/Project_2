version https://git-lfs.github.com/spec/v1
oid sha256:99c5a2dd8455f5e843058f4d00ccf8a7d655a2d433fe8516ef180a1b6caf1503
size 105590
